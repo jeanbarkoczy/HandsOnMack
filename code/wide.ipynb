{
 "cells": [
  {
   "cell_type": "code",
   "execution_count": 3,
   "metadata": {},
   "outputs": [
    {
     "name": "stdout",
     "output_type": "stream",
     "text": [
      "Conexão com PostgreSQL estabelecida.\n"
     ]
    },
    {
     "name": "stderr",
     "output_type": "stream",
     "text": [
      "/var/folders/3s/w88srlwx24sf_qfk5qzh711c0000gn/T/ipykernel_53098/4061537114.py:29: UserWarning: pandas only supports SQLAlchemy connectable (engine/connection) or database string URI or sqlite3 DBAPI2 connection. Other DBAPI2 objects are not tested. Please consider using SQLAlchemy.\n",
      "  df = pd.read_sql_query(query, conn)\n"
     ]
    },
    {
     "name": "stdout",
     "output_type": "stream",
     "text": [
      "Dados extraídos com sucesso.\n",
      "Arquivo enviado para S3: s3://handson-mackenzie/trusted/postgres_data.csv\n"
     ]
    }
   ],
   "source": [
    "import pandas as pd\n",
    "import boto3\n",
    "import psycopg2\n",
    "from io import StringIO\n",
    "\n",
    "# Configurações do PostgreSQL no RDS\n",
    "db_config = {\n",
    "    'dbname': 'postgres',\n",
    "    'user': 'postgres',\n",
    "    'password': 'darlingityler11',\n",
    "    'host': 'susep2.cvosq0muixiq.us-east-1.rds.amazonaws.com',\n",
    "    'port': 5432\n",
    "}\n",
    "\n",
    "# Configurações do S3\n",
    "bucket_name = 'handson-mackenzie'  # Nome do bucket\n",
    "s3_file_key = 'trusted/postgres_data.csv'  # Caminho dentro do bucket\n",
    "\n",
    "# Query para selecionar os dados\n",
    "query = \"SELECT * FROM SES_SEGUROS_WIDE;\"\n",
    "\n",
    "def fetch_postgres_data():\n",
    "    try:\n",
    "        # Conecta ao banco PostgreSQL\n",
    "        conn = psycopg2.connect(**db_config)\n",
    "        print(\"Conexão com PostgreSQL estabelecida.\")\n",
    "\n",
    "        # Lê os dados em um DataFrame\n",
    "        df = pd.read_sql_query(query, conn)\n",
    "        print(\"Dados extraídos com sucesso.\")\n",
    "        return df\n",
    "\n",
    "    except Exception as e:\n",
    "        print(f\"Erro ao conectar ao PostgreSQL: {e}\")\n",
    "    finally:\n",
    "        conn.close()\n",
    "\n",
    "def upload_to_s3(dataframe, bucket, key):\n",
    "    try:\n",
    "        # Converte DataFrame para CSV em memória\n",
    "        csv_buffer = StringIO()\n",
    "        dataframe.to_csv(csv_buffer, index=False)\n",
    "\n",
    "        # Inicializa cliente do S3\n",
    "        s3 = boto3.client('s3')\n",
    "        s3.put_object(Bucket=bucket, Key=key, Body=csv_buffer.getvalue())\n",
    "        print(f\"Arquivo enviado para S3: s3://{bucket}/{key}\")\n",
    "\n",
    "    except Exception as e:\n",
    "        print(f\"Erro ao fazer upload para o S3: {e}\")\n",
    "\n",
    "if __name__ == \"__main__\":\n",
    "    # Extrai os dados do PostgreSQL\n",
    "    df = fetch_postgres_data()\n",
    "    \n",
    "    if df is not None and not df.empty:\n",
    "        # Faz upload para o S3\n",
    "        upload_to_s3(df, bucket_name, s3_file_key)\n",
    "    else:\n",
    "        print(\"Nenhum dado foi encontrado para exportar.\")\n"
   ]
  }
 ],
 "metadata": {
  "kernelspec": {
   "display_name": "Python 3",
   "language": "python",
   "name": "python3"
  },
  "language_info": {
   "codemirror_mode": {
    "name": "ipython",
    "version": 3
   },
   "file_extension": ".py",
   "mimetype": "text/x-python",
   "name": "python",
   "nbconvert_exporter": "python",
   "pygments_lexer": "ipython3",
   "version": "3.11.4"
  }
 },
 "nbformat": 4,
 "nbformat_minor": 2
}
