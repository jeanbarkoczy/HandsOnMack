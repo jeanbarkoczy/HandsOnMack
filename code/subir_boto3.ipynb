{
 "cells": [
  {
   "cell_type": "code",
   "execution_count": 2,
   "metadata": {},
   "outputs": [],
   "source": [
    "import pandas as pd  \n",
    "import boto3 \n",
    "import os "
   ]
  },
  {
   "cell_type": "code",
   "execution_count": 3,
   "metadata": {},
   "outputs": [
    {
     "name": "stdout",
     "output_type": "stream",
     "text": [
      "Fazendo upload de /Users/jean.barkoczy/Documents/BaseCompleta/Trata/.DS_Store para s3://handson-mackenzie/raw/.DS_Store\n",
      "Fazendo upload de /Users/jean.barkoczy/Documents/BaseCompleta/Trata/ses_quantcap/ses_quantcap.csv para s3://handson-mackenzie/raw/ses_quantcap/ses_quantcap.csv\n",
      "Fazendo upload de /Users/jean.barkoczy/Documents/BaseCompleta/Trata/Ses_seg_prov_det/Ses_seg_prov_det.csv para s3://handson-mackenzie/raw/Ses_seg_prov_det/Ses_seg_prov_det.csv\n",
      "Fazendo upload de /Users/jean.barkoczy/Documents/BaseCompleta/Trata/Ses_dependencias/Ses_dependencias.csv para s3://handson-mackenzie/raw/Ses_dependencias/Ses_dependencias.csv\n",
      "Fazendo upload de /Users/jean.barkoczy/Documents/BaseCompleta/Trata/Ses_Contrib_Benef/Ses_Contrib_Benef.csv para s3://handson-mackenzie/raw/Ses_Contrib_Benef/Ses_Contrib_Benef.csv\n",
      "Fazendo upload de /Users/jean.barkoczy/Documents/BaseCompleta/Trata/Ses_seguros/Ses_seguros.csv para s3://handson-mackenzie/raw/Ses_seguros/Ses_seguros.csv\n",
      "Fazendo upload de /Users/jean.barkoczy/Documents/BaseCompleta/Trata/Ses_rmovram/Ses_rmovram.csv para s3://handson-mackenzie/raw/Ses_rmovram/Ses_rmovram.csv\n",
      "Fazendo upload de /Users/jean.barkoczy/Documents/BaseCompleta/Trata/Ses_part_acion/Ses_part_acion.csv para s3://handson-mackenzie/raw/Ses_part_acion/Ses_part_acion.csv\n",
      "Fazendo upload de /Users/jean.barkoczy/Documents/BaseCompleta/Trata/ses_quantprev_part/ses_quantprev_part.csv para s3://handson-mackenzie/raw/ses_quantprev_part/ses_quantprev_part.csv\n",
      "Fazendo upload de /Users/jean.barkoczy/Documents/BaseCompleta/Trata/Ses_campos/Ses_campos.csv para s3://handson-mackenzie/raw/Ses_campos/Ses_campos.csv\n",
      "Fazendo upload de /Users/jean.barkoczy/Documents/BaseCompleta/Trata/SES_prov_segprev/SES_prov_segprev.csv para s3://handson-mackenzie/raw/SES_prov_segprev/SES_prov_segprev.csv\n",
      "Fazendo upload de /Users/jean.barkoczy/Documents/BaseCompleta/Trata/Ses_pl_margem/Ses_pl_margem.csv para s3://handson-mackenzie/raw/Ses_pl_margem/Ses_pl_margem.csv\n",
      "Fazendo upload de /Users/jean.barkoczy/Documents/BaseCompleta/Trata/Ses_vgbl_fundos/Ses_vgbl_fundos.csv para s3://handson-mackenzie/raw/Ses_vgbl_fundos/Ses_vgbl_fundos.csv\n",
      "Fazendo upload de /Users/jean.barkoczy/Documents/BaseCompleta/Trata/ses_pgbl_uf/ses_pgbl_uf.csv para s3://handson-mackenzie/raw/ses_pgbl_uf/ses_pgbl_uf.csv\n",
      "Fazendo upload de /Users/jean.barkoczy/Documents/BaseCompleta/Trata/Ses_Cessoes_Recebidas/Ses_Cessoes_Recebidas.csv para s3://handson-mackenzie/raw/Ses_Cessoes_Recebidas/Ses_Cessoes_Recebidas.csv\n",
      "Fazendo upload de /Users/jean.barkoczy/Documents/BaseCompleta/Trata/ses_cap_uf/ses_cap_uf.csv para s3://handson-mackenzie/raw/ses_cap_uf/ses_cap_uf.csv\n",
      "Fazendo upload de /Users/jean.barkoczy/Documents/BaseCompleta/Trata/ses_gruposramos/ses_gruposramos.csv para s3://handson-mackenzie/raw/ses_gruposramos/ses_gruposramos.csv\n",
      "Fazendo upload de /Users/jean.barkoczy/Documents/BaseCompleta/Trata/Ses_ramos/Ses_ramos.csv para s3://handson-mackenzie/raw/Ses_ramos/Ses_ramos.csv\n",
      "Fazendo upload de /Users/jean.barkoczy/Documents/BaseCompleta/Trata/ses_pgbl_contrib/ses_pgbl_contrib.csv para s3://handson-mackenzie/raw/ses_pgbl_contrib/ses_pgbl_contrib.csv\n",
      "Fazendo upload de /Users/jean.barkoczy/Documents/BaseCompleta/Trata/Ses_cias/Ses_cias.csv para s3://handson-mackenzie/raw/Ses_cias/Ses_cias.csv\n",
      "Fazendo upload de /Users/jean.barkoczy/Documents/BaseCompleta/Trata/ses_pgbl_fundos/ses_pgbl_fundos.csv para s3://handson-mackenzie/raw/ses_pgbl_fundos/ses_pgbl_fundos.csv\n",
      "Fazendo upload de /Users/jean.barkoczy/Documents/BaseCompleta/Trata/Ses_diversos/Ses_diversos.csv para s3://handson-mackenzie/raw/Ses_diversos/Ses_diversos.csv\n",
      "Fazendo upload de /Users/jean.barkoczy/Documents/BaseCompleta/Trata/ses_prev_cap_uf/ses_prev_cap_uf.csv para s3://handson-mackenzie/raw/ses_prev_cap_uf/ses_prev_cap_uf.csv\n",
      "Fazendo upload de /Users/jean.barkoczy/Documents/BaseCompleta/Trata/Ses_Administradores/Ses_Administradores.csv para s3://handson-mackenzie/raw/Ses_Administradores/Ses_Administradores.csv\n",
      "Fazendo upload de /Users/jean.barkoczy/Documents/BaseCompleta/Trata/Ses_Dados_Cap/Ses_Dados_Cap.csv para s3://handson-mackenzie/raw/Ses_Dados_Cap/Ses_Dados_Cap.csv\n",
      "Fazendo upload de /Users/jean.barkoczy/Documents/BaseCompleta/Trata/ses_quantprev_benef/ses_quantprev_benef.csv para s3://handson-mackenzie/raw/ses_quantprev_benef/ses_quantprev_benef.csv\n",
      "Fazendo upload de /Users/jean.barkoczy/Documents/BaseCompleta/Trata/ses_pgbl_resgates/ses_pgbl_resgates.csv para s3://handson-mackenzie/raw/ses_pgbl_resgates/ses_pgbl_resgates.csv\n",
      "Fazendo upload de /Users/jean.barkoczy/Documents/BaseCompleta/Trata/Ses_prov/Ses_prov.csv para s3://handson-mackenzie/raw/Ses_prov/Ses_prov.csv\n",
      "Fazendo upload de /Users/jean.barkoczy/Documents/BaseCompleta/Trata/Ses_limite_ret/Ses_limite_ret.csv para s3://handson-mackenzie/raw/Ses_limite_ret/Ses_limite_ret.csv\n",
      "Fazendo upload de /Users/jean.barkoczy/Documents/BaseCompleta/Trata/ses_contatos/ses_contatos.csv para s3://handson-mackenzie/raw/ses_contatos/ses_contatos.csv\n",
      "Fazendo upload de /Users/jean.barkoczy/Documents/BaseCompleta/Trata/ses_valoresresmovgrupos/ses_valoresresmovgrupos.csv para s3://handson-mackenzie/raw/ses_valoresresmovgrupos/ses_valoresresmovgrupos.csv\n",
      "Fazendo upload de /Users/jean.barkoczy/Documents/BaseCompleta/Trata/SES_ValoresMovRamos/SES_ValoresMovRamos.csv para s3://handson-mackenzie/raw/SES_ValoresMovRamos/SES_ValoresMovRamos.csv\n",
      "Fazendo upload de /Users/jean.barkoczy/Documents/BaseCompleta/Trata/ses_transferenciasexternas/ses_transferenciasexternas.csv para s3://handson-mackenzie/raw/ses_transferenciasexternas/ses_transferenciasexternas.csv\n",
      "Fazendo upload de /Users/jean.barkoczy/Documents/BaseCompleta/Trata/SES_Balanco/SES_Balanco.csv para s3://handson-mackenzie/raw/SES_Balanco/SES_Balanco.csv\n",
      "Fazendo upload de /Users/jean.barkoczy/Documents/BaseCompleta/Trata/ses_prev_uf/ses_prev_uf.csv para s3://handson-mackenzie/raw/ses_prev_uf/ses_prev_uf.csv\n",
      "Fazendo upload de /Users/jean.barkoczy/Documents/BaseCompleta/Trata/Ses_vgbl_resgates/Ses_vgbl_resgates.csv para s3://handson-mackenzie/raw/Ses_vgbl_resgates/Ses_vgbl_resgates.csv\n",
      "Fazendo upload de /Users/jean.barkoczy/Documents/BaseCompleta/Trata/Ses_grupos_economicos/Ses_grupos_economicos.csv para s3://handson-mackenzie/raw/Ses_grupos_economicos/Ses_grupos_economicos.csv\n",
      "Fazendo upload de /Users/jean.barkoczy/Documents/BaseCompleta/Trata/ses_prev_trad_resgates/ses_prev_trad_resgates.csv para s3://handson-mackenzie/raw/ses_prev_trad_resgates/ses_prev_trad_resgates.csv\n",
      "Fazendo upload de /Users/jean.barkoczy/Documents/BaseCompleta/Trata/ses_provramos/ses_provramos.csv para s3://handson-mackenzie/raw/ses_provramos/ses_provramos.csv\n",
      "Fazendo upload de /Users/jean.barkoczy/Documents/BaseCompleta/Trata/SES_UF2/SES_UF2.csv para s3://handson-mackenzie/raw/SES_UF2/SES_UF2.csv\n",
      "Fazendo upload de /Users/jean.barkoczy/Documents/BaseCompleta/Trata/LimiteRetProxVig/LimiteRetProxVig.csv para s3://handson-mackenzie/raw/LimiteRetProxVig/LimiteRetProxVig.csv\n"
     ]
    }
   ],
   "source": [
    "def upload_directory_to_s3(local_directory, bucket_name, s3_prefix=''):\n",
    "    s3 = boto3.client('s3')\n",
    "\n",
    "    # A função os.walk percorre recursivamente a pasta local\n",
    "    for root, dirs, files in os.walk(local_directory):\n",
    "        for filename in files:\n",
    "            # Caminho completo do arquivo local\n",
    "            local_path = os.path.join(root, filename)\n",
    "            \n",
    "            # Cria a chave (path) no S3 com base no prefixo e na estrutura do diretório\n",
    "            relative_path = os.path.relpath(local_path, local_directory)\n",
    "            s3_key = os.path.join(s3_prefix, relative_path).replace('\\\\', '/')\n",
    "            \n",
    "            print(f\"Fazendo upload de {local_path} para s3://{bucket_name}/{s3_key}\")\n",
    "            s3.upload_file(local_path, bucket_name, s3_key)\n",
    "\n",
    "# Exemplo de uso:\n",
    "# Substitua:\n",
    "# - 'minha_pasta_local' pelo caminho da sua pasta local a ser enviada\n",
    "# - 'meu-bucket-exemplo' pelo nome do bucket\n",
    "# - 'meu/prefixo' por um prefixo no bucket (opcional), caso queira colocar a pasta dentro de um \"subdiretório\" virtual no S3.\n",
    "\n",
    "local_directory = '/Users/jean.barkoczy/Documents/BaseCompleta/Trata'\n",
    "bucket_name = 'handson-mackenzie'\n",
    "s3_prefix = 'raw/'\n",
    "\n",
    "upload_directory_to_s3(local_directory, bucket_name, s3_prefix)\n"
   ]
  }
 ],
 "metadata": {
  "kernelspec": {
   "display_name": "Python 3",
   "language": "python",
   "name": "python3"
  },
  "language_info": {
   "codemirror_mode": {
    "name": "ipython",
    "version": 3
   },
   "file_extension": ".py",
   "mimetype": "text/x-python",
   "name": "python",
   "nbconvert_exporter": "python",
   "pygments_lexer": "ipython3",
   "version": "3.11.4"
  }
 },
 "nbformat": 4,
 "nbformat_minor": 2
}
